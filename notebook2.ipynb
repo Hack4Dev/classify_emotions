{
 "cells": [
  {
   "cell_type": "markdown",
   "id": "2129340a-39cb-4cc3-b706-9af78901a67d",
   "metadata": {},
   "source": [
    "# Notebook 2: Using ChatGPT and the Internet for Binary Image Classification\n",
    "\n"
   ]
  },
  {
   "cell_type": "markdown",
   "id": "8b48c189-548c-4f3b-af91-7f61627eaff1",
   "metadata": {},
   "source": [
    "---"
   ]
  },
  {
   "cell_type": "markdown",
   "id": "25b0620b-aa51-46e1-a38d-dc3d38d7c929",
   "metadata": {},
   "source": [
    "## Introduction:\n"
   ]
  },
  {
   "cell_type": "markdown",
   "id": "451d89e6-6871-49ac-882a-121fbb6f74eb",
   "metadata": {},
   "source": [
    "Hello young scientists! Remember the emotions images we collected? Today, we're going to classify them. We'll use `ChatGPT` or/and `Google` to guide us through each step."
   ]
  },
  {
   "cell_type": "markdown",
   "id": "d40e72ae-7f84-463c-b0cc-de99f09f29ed",
   "metadata": {},
   "source": [
    "### **Step 1:** Understand Your Task\n"
   ]
  },
  {
   "cell_type": "markdown",
   "id": "4f25460d-3a31-46d7-8380-24767b557cd7",
   "metadata": {},
   "source": [
    "Your mission is to classify images into one of the two emotions you've chosen. This is a binary classification problem. Before diving into the technical details, can you think of other examples in real life where you need to classify something into one of two categories?"
   ]
  },
  {
   "cell_type": "markdown",
   "id": "134c03dc-45de-442f-a467-5389bdc35f1d",
   "metadata": {},
   "source": [
    "---"
   ]
  },
  {
   "cell_type": "markdown",
   "id": "56bf3be1-8b78-4494-9f5e-56e7f9953474",
   "metadata": {},
   "source": [
    "### **Step 2:** Fetching Images from Your Folder\n"
   ]
  },
  {
   "cell_type": "markdown",
   "id": "5521f9a5-edf8-415c-ac38-e6755528468d",
   "metadata": {},
   "source": [
    "To start, you'll need to access the images. You can ask ChatGPT or Google:\n",
    "\n",
    "`\"How do I read images from a folder in Python?\"`\n",
    "\n"
   ]
  },
  {
   "cell_type": "code",
   "execution_count": 1,
   "id": "04688158-4a91-4477-b55b-71d124b26008",
   "metadata": {
    "tags": []
   },
   "outputs": [],
   "source": [
    "## Code goes here\n",
    "\n"
   ]
  },
  {
   "cell_type": "markdown",
   "id": "3b743c2d-3093-47f8-8e10-d5996310c723",
   "metadata": {},
   "source": [
    "##### Exercise: Display an Emotion Image"
   ]
  },
  {
   "cell_type": "markdown",
   "id": "27c090c8-6600-46f5-94e5-68af3bdcca28",
   "metadata": {},
   "source": [
    "---"
   ]
  },
  {
   "cell_type": "markdown",
   "id": "da011b13-9721-453c-bc37-7697aea7b9cb",
   "metadata": {
    "tags": []
   },
   "source": [
    "### **Step 3:** Preparing Your Images (Preprocessing)\n"
   ]
  },
  {
   "cell_type": "markdown",
   "id": "e885c3a4-3c27-4087-b729-c18145faf37b",
   "metadata": {},
   "source": [
    "Images can be of different sizes and lighting conditions. For our machine to learn from them, they should be uniform. This step is called preprocessing."
   ]
  },
  {
   "cell_type": "markdown",
   "id": "c09fddc1-1679-4b06-91e0-b386d6c19ecc",
   "metadata": {
    "tags": []
   },
   "source": [
    "Questions to Ask `ChatGPT` or `Google`:\n",
    "\n",
    "1. Why do we need to preprocess images for machine learning?\n",
    "2. How can I resize images for machine learning?\n"
   ]
  },
  {
   "cell_type": "code",
   "execution_count": null,
   "id": "773d6f0b-debf-4d8f-8323-b8a182e92ea9",
   "metadata": {},
   "outputs": [],
   "source": [
    "## Code goes here\n"
   ]
  },
  {
   "cell_type": "markdown",
   "id": "22fd7eec-c877-404e-816a-517e30bac187",
   "metadata": {},
   "source": [
    "---"
   ]
  },
  {
   "cell_type": "markdown",
   "id": "1d1756ff-b8ef-49e1-b9fc-76e050e57479",
   "metadata": {
    "tags": []
   },
   "source": [
    "### Step 4: Splitting Your Data\n",
    "\n",
    "For machine learning, we often split our images into two groups:\n",
    "\n",
    "1. Training Data: Helps the machine learn.\n",
    "2. Testing Data: Helps us test how well our machine learned."
   ]
  },
  {
   "cell_type": "markdown",
   "id": "aacdf369-bc96-417d-a1ff-50e061c0f1dd",
   "metadata": {},
   "source": [
    "##### You come up with the questions!"
   ]
  },
  {
   "cell_type": "markdown",
   "id": "ee97ba44-4b0e-40d6-98ae-060376537afb",
   "metadata": {},
   "source": [
    "---"
   ]
  },
  {
   "cell_type": "markdown",
   "id": "60d98e1c-9a44-48eb-a56a-e5329ef76804",
   "metadata": {},
   "source": [
    "### **Step 5:** Choosing a Classifier\n"
   ]
  },
  {
   "cell_type": "markdown",
   "id": "60c9bbd6-a911-48cf-b264-8a5ebd30e8cb",
   "metadata": {},
   "source": [
    "Now, you'll pick a machine learning model to classify your images. Since we're doing binary classification, there are simple models we can start with.\n",
    "\n",
    "Ask:\n",
    "\n",
    "- \"What's a good beginner classifier for binary image classification?\""
   ]
  },
  {
   "cell_type": "code",
   "execution_count": 7,
   "id": "f42ca2b7-f391-4fa2-8806-f27afe90e9ca",
   "metadata": {
    "tags": []
   },
   "outputs": [],
   "source": [
    "## define the model here\n",
    "\n"
   ]
  },
  {
   "cell_type": "markdown",
   "id": "ea109c70-3e92-4ab9-be12-48c7274ba013",
   "metadata": {},
   "source": [
    "---"
   ]
  },
  {
   "cell_type": "markdown",
   "id": "19e0ad29-550e-4a04-a2aa-d0984ffa7319",
   "metadata": {
    "tags": []
   },
   "source": [
    "### **Step 6:** Training and Testing Your Classifier\n"
   ]
  },
  {
   "cell_type": "markdown",
   "id": "d69b682a-62ce-44b8-83bf-18e643ed5037",
   "metadata": {
    "tags": []
   },
   "source": [
    "With your classifier picked out, you'll now `\"teach\"` it using your training data and then \"quiz\" it using your testing data.\n",
    "\n"
   ]
  },
  {
   "cell_type": "markdown",
   "id": "10da178e-0152-4d0a-9b00-edf40fade930",
   "metadata": {
    "tags": []
   },
   "source": [
    "Questions for `ChatGPT` or `Google`:\n",
    "\n",
    "- \"How do I train a [chosen classifier] with image data?\"\n",
    "- \"Once trained, how can I test my classifier?\""
   ]
  },
  {
   "cell_type": "code",
   "execution_count": 9,
   "id": "24856aee-eaa8-45e6-b793-cd0fbaf86e0e",
   "metadata": {
    "tags": []
   },
   "outputs": [],
   "source": [
    "## code goes here\n",
    "\n",
    "\n"
   ]
  },
  {
   "cell_type": "markdown",
   "id": "8dbb3bf0-a750-436b-9556-e57d876222b9",
   "metadata": {},
   "source": [
    "---"
   ]
  },
  {
   "cell_type": "markdown",
   "id": "01937a18-0fb6-4e9b-9c03-75429aea618a",
   "metadata": {},
   "source": [
    "### Step 7: Evaluating Your Results\n"
   ]
  },
  {
   "cell_type": "markdown",
   "id": "78d7617f-f362-4538-99c1-aef722e21c50",
   "metadata": {
    "tags": []
   },
   "source": [
    "Questions for `ChatGPT` or the `Google`:\n",
    "\n",
    "\n",
    "- \"How do I evaluate the performance of a binary classifier?\"\n",
    "- \"What is accuracy in classification?\""
   ]
  },
  {
   "cell_type": "markdown",
   "id": "e92dcc28-8cb2-4699-b90f-5caa1155a641",
   "metadata": {},
   "source": [
    "code goes here"
   ]
  },
  {
   "cell_type": "markdown",
   "id": "f44628fe-5708-4d51-b96d-f173e57370b1",
   "metadata": {},
   "source": [
    "---"
   ]
  },
  {
   "cell_type": "markdown",
   "id": "02353fe2-f7b3-4f68-be76-c882928c80aa",
   "metadata": {},
   "source": [
    "### Conclusion:\n",
    "\n",
    "Congratulations! You've navigated the exciting path of machine learning, from understanding your task to evaluating your model's performance. Remember, the journey of machine learning is filled with trials, errors, and a lot of learning. Celebrate every milestone!"
   ]
  },
  {
   "cell_type": "markdown",
   "id": "4218d660-b628-4083-87a7-0170bcf1c438",
   "metadata": {
    "tags": []
   },
   "source": [
    "<div align=\"center\">\n",
    "  <img src=\"images/jCat.jpeg\" width=\"300\" height=\"300\">\n",
    "</div>"
   ]
  },
  {
   "cell_type": "code",
   "execution_count": null,
   "id": "ab52319c-64fa-4d41-a2a6-c650a237b254",
   "metadata": {},
   "outputs": [],
   "source": []
  }
 ],
 "metadata": {
  "kernelspec": {
   "display_name": "Python 3 (ipykernel)",
   "language": "python",
   "name": "python3"
  },
  "language_info": {
   "codemirror_mode": {
    "name": "ipython",
    "version": 3
   },
   "file_extension": ".py",
   "mimetype": "text/x-python",
   "name": "python",
   "nbconvert_exporter": "python",
   "pygments_lexer": "ipython3",
   "version": "3.11.2"
  }
 },
 "nbformat": 4,
 "nbformat_minor": 5
}
