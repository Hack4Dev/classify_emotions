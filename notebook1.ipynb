{
 "cells": [
  {
   "cell_type": "markdown",
   "id": "96cff45b-90c6-49cc-aadc-9eca91b8d7ba",
   "metadata": {},
   "source": [
    "# Notebook 1: Capturing Emotions Using Your Cellphone\n"
   ]
  },
  {
   "cell_type": "markdown",
   "id": "cbaa0c49-8726-4fa0-bffa-5263f1da1e4e",
   "metadata": {},
   "source": [
    "<div align=\"center\">\n",
    "  <img src=\"images/celeb.webp\" width=\"600\" height=\"400\">\n",
    "    <p><center>Today, we portray ourselves as celebrities, yet we channel our influence into being a force for good.</center></p>\n",
    "    <p><center>(chatGPT)</center></p>\n",
    "</div>"
   ]
  },
  {
   "cell_type": "markdown",
   "id": "f385ca53-f777-4439-8648-62508bcd1e44",
   "metadata": {
    "tags": []
   },
   "source": [
    "## Introduction"
   ]
  },
  {
   "cell_type": "markdown",
   "id": "a2a1b6d0-3cf9-4d33-b436-cc7a701c6fc3",
   "metadata": {},
   "source": [
    "Hello, future **Data Scientists!** Are you ready for an exciting journey into the world of Machine Learning (ML)? Well, grab your backpacks because we are about to start an adventure of emotions.\n",
    "\n",
    "First things first, let's talk about Machine Learning. In a nutshell, machine learning is a type of artificial intelligence (AI) that allows computers to learn and make decisions without being explicitly programmed. Imagine teaching your dog to fetch; you show it how to do it a few times, and after that, it just gets it, right? Well, machine learning is a bit like that, but instead of teaching dogs, we're training computers! We feed them data (like images, texts, numbers), they analyze this data, learn from it, and then they can make predictions or decisions based on what they've learned.\n",
    "\n",
    "In this notebook, we are about to embark on the first step of our machine learning project: capturing images of emotions. There are five basic emotions we're interested in: Disgust, Sadness, Joy, Fear, and Anger. **Here's where it gets interesting** - **each team gets to choose two emotions out of these five for their project**. You might be wondering, why just two? Good question! By focusing on two emotions, we can dive deeper into the nuances of these emotions and how to capture them effectively.\n",
    "\n",
    "But before we dive into capturing images, let's play a quick game to grasp an important concept in Machine Learning - Data Classification."
   ]
  },
  {
   "cell_type": "markdown",
   "id": "d6cc054a-0bf8-414d-8891-05274e7b1c3c",
   "metadata": {},
   "source": [
    "<div align=\"center\">\n",
    "  <img src=\"images/em.png\" width=\"300\" height=\"300\">\n",
    "</div>"
   ]
  },
  {
   "cell_type": "markdown",
   "id": "35ee5250-4f53-4948-9e81-32411a421f3c",
   "metadata": {},
   "source": [
    "### Quick Game: Emoji Sorting\n"
   ]
  },
  {
   "cell_type": "markdown",
   "id": "25120764-80ca-4869-b856-068d24dd2368",
   "metadata": {
    "tags": []
   },
   "source": [
    "1. **Objective:** You'll manually sort images \n",
    "\n",
    "2. **Task:** You'll find a folder named \"Emojis,\" filled with various emojis. Sort them into separate folders\n",
    "\n",
    "3. **Time Limit:** You've got 5 minutes - go!\n"
   ]
  },
  {
   "cell_type": "markdown",
   "id": "a804cb8e-667f-46b4-be35-0f460b8e264c",
   "metadata": {},
   "source": [
    "**Any comments?**"
   ]
  },
  {
   "cell_type": "markdown",
   "id": "067d5b5f-090b-4f52-9563-3d95633733b6",
   "metadata": {},
   "source": [
    "**Ready? Let's dive into the world of Machine Learning and emotions!**"
   ]
  },
  {
   "cell_type": "markdown",
   "id": "cdd40074-ba4f-4a48-84b2-84cb531809e0",
   "metadata": {},
   "source": [
    "----"
   ]
  },
  {
   "cell_type": "markdown",
   "id": "21c0f6e8-c54f-432c-be55-299eda1534e3",
   "metadata": {},
   "source": [
    "## 2. Setting the Stage: Understanding Emotions"
   ]
  },
  {
   "cell_type": "markdown",
   "id": "8f872930-b3fb-4f52-b6f5-20349873ccc0",
   "metadata": {},
   "source": [
    "Before we start our adventure, let's take a moment to understand what we're dealing with - emotions. Emotions are feelings that come from situations, thoughts, or happenings. They are what make us human! Have you ever felt excited about a new video game or sad when your favorite TV show ends? Those are emotions at work!\n"
   ]
  },
  {
   "cell_type": "markdown",
   "id": "9b729a1a-ed5e-465a-897d-6b3b848b2b6f",
   "metadata": {},
   "source": [
    "Let's look at some examples of these emotions, shall we?\n",
    "\n",
    "- **Joy 😄:** You know the feeling when you ace a test you've been studying for, or when you see your food coming at your favorite restaurant? That's joy!\n",
    "\n",
    "- **Sadness 😞:** Remember feeling down when you lose a game you wanted to win, or when it's time to switch off the video game and do homework? That's sadness for you.\n",
    "\n",
    "- **Anger 😠:** You might have felt this when someone spoiled the end of a movie you were excited to see, or when your Wi-Fi stopped working right in the middle of an online game. That's anger.\n",
    "\n",
    "- **Fear 😨:** Ever felt a shiver down your spine during a scary movie or when a big spider appeared out of nowhere? That's fear.\n",
    "\n",
    "- **Disgust 🤢:** Disgust is what you feel when you bite into a piece of rotten fruit or when you smell a really stinky sock. Yup, that's disgust."
   ]
  },
  {
   "cell_type": "markdown",
   "id": "638ec5da-b6f7-4aa9-b2e7-d76d4f70ba7a",
   "metadata": {},
   "source": [
    "Remember, these are just a few examples. These emotions can come from all sorts of situations, and that's what makes them so interesting! Now that we've set the stage and understand the emotions we're dealing with, are you ready to start capturing them with your cellphone camera? Let's move on to the next part of our **journey!**"
   ]
  },
  {
   "cell_type": "markdown",
   "id": "54255d3e-ff31-4139-85e0-5f26c093b4db",
   "metadata": {},
   "source": [
    "---"
   ]
  },
  {
   "cell_type": "markdown",
   "id": "f357c848-322d-45c5-814f-66168e2c6897",
   "metadata": {},
   "source": [
    "### Game: Emotion Charades"
   ]
  },
  {
   "cell_type": "markdown",
   "id": "03709e65-87eb-4d0a-9c7b-792ccb2d7edb",
   "metadata": {},
   "source": [
    "This is a fun and engaging activity to get you all involved and thinking about the emotions we'll be working with in our project: happiness, sadness, and anger.\n",
    "\n",
    "**Objective:** Understand and express the 5 emotions of Disgust, Sadness, Joy, Fear, and Anger more deeply."
   ]
  },
  {
   "cell_type": "markdown",
   "id": "be7c483e-3ed0-4336-b56e-720d5aba8db7",
   "metadata": {},
   "source": [
    "#### Instructions:\n",
    "\n",
    "1. **Form Groups:** Form a group of five students. Each group will need a small piece of paper and a pen.\n",
    "\n",
    "2. **Write Down Scenarios:** Each member of the group will write down 5 scenarios on a piece of paper - a scenario  per emotion\n",
    "\n",
    "3. **Draw Scenarios:** Put all the pieces of paper in a hat or bowl. Take turns drawing a piece of paper and reading the scenario to yourself.\n",
    "\n",
    "4. **Act it Out:** Without telling the group what emotion you drew, act out the scenario and express the emotion associated with it. Your group mates will have to guess the emotion you're acting out."
   ]
  },
  {
   "cell_type": "markdown",
   "id": "dadee14c-22c0-49fb-bd28-9fe9f6a7fde0",
   "metadata": {},
   "source": [
    "#### Post-Game Discussion: Reflecting on Emotion Charades"
   ]
  },
  {
   "cell_type": "markdown",
   "id": "a71e1906-77f0-4292-aae7-757a09cbe158",
   "metadata": {},
   "source": [
    "After everyone has had a turn to act out an emotion, it's essential to reflect on the exercise. Here are some discussion points to guide your conversation:"
   ]
  },
  {
   "cell_type": "markdown",
   "id": "bdfafc10-e393-4d39-a11f-96d621ccc2b0",
   "metadata": {},
   "source": [
    "1. **Emotion Expression:** How did it feel to express different emotions? Did some emotions feel easier to express than others? Why?\n",
    "\n",
    "2. **Emotion Recognition:** Was it easier to guess some emotions compared to others? Which emotions were the most challenging to identify and why?\n",
    "\n",
    "3. **Key Facial Expressions:** What specific facial expressions helped identify each emotion? For example, a big smile for happiness, teary eyes for sadness, or a scowl for anger.\n",
    "\n",
    "4. **Key Body Language:** What kind of body language was a giveaway for each emotion? This could include jumping around for happiness, slumping shoulders for sadness, or aggressive gestures for anger.\n",
    "\n",
    "5. **Emotion Intensity:** How did the intensity of the expression impact the guessing? Was it easier to guess when the emotions were acted out more dramatically?\n",
    "\n",
    "6. **Improvements for Next Time:** If you were to do this exercise again, what would you do differently to express or recognize emotions?\n",
    "\n"
   ]
  },
  {
   "cell_type": "markdown",
   "id": "61f55fd4-7afd-48da-b572-e709d347d083",
   "metadata": {},
   "source": [
    "Remember, this discussion is a great way to deepen your understanding of how emotions can be expressed and recognized, which will be very helpful when capturing images of these emotions for your machine learning project."
   ]
  },
  {
   "cell_type": "markdown",
   "id": "6e4c17cc-82b2-4067-9d8e-10ecb4f207a6",
   "metadata": {},
   "source": [
    "---"
   ]
  },
  {
   "cell_type": "markdown",
   "id": "352ce902-4c95-4e44-a590-59f89f86be63",
   "metadata": {},
   "source": [
    "## 3. How to Capture Emotion Photos"
   ]
  },
  {
   "cell_type": "markdown",
   "id": "0e2b1449-da4d-4bc1-bd51-48e31fdc5149",
   "metadata": {},
   "source": [
    "Ready for your close-up? It's time to capture your emotions on camera. The goal here is to capture at least **50 images per emotion** for each team, so we should total 100 per group. That might seem like a lot, but remember, the more data we have, the better our machine learning model can learn! Let's break it down into a few easy steps:\n",
    "- **Step 1:** Find a well-lit place\n",
    "- **Step 2:** Position the camera at eye level\n",
    "- **Step 3:** Make sure your face is clear and visible\n",
    "- **Step 4:** Show an emotion (anger, sadness, joy) and capture the photo\n",
    "- **Step 5:** Review the photo to ensure your emotion is clear\n"
   ]
  },
  {
   "cell_type": "markdown",
   "id": "8edcf1ff-981f-44bc-bc9d-304d5c02791b",
   "metadata": {},
   "source": [
    "**Remember**, this is a fun exercise. It's okay to be silly and over-expressive - that's the point! And the more data we collect, the better. **If your team is feeling enthusiastic and has time, feel free to capture more than 50 images per emotion**. The world of machine learning loves data, and your extra effort will make your model even better! Happy clicking!"
   ]
  },
  {
   "cell_type": "markdown",
   "id": "680e6e37-f3ab-4e52-aca1-8e520f00b2f0",
   "metadata": {},
   "source": [
    "---"
   ]
  },
  {
   "cell_type": "markdown",
   "id": "5a2ade39-c31d-4c9e-9eaf-8390534d37e6",
   "metadata": {},
   "source": [
    "## 4. Organizing Our Emotion Photos"
   ]
  },
  {
   "cell_type": "markdown",
   "id": "a4324e45-af65-4f3b-a46b-98122c16f099",
   "metadata": {},
   "source": [
    "Now that we've captured our emotion-laden images, let's keep them neat and tidy.\n",
    "\n",
    "1. **Creating Separate Folders:** We're going to create two separate folders on our devices, one for each emotion we've chosen. This will make sure our photos are easy to find when we need them.\n",
    "\n",
    "2. **Why Organize?:** In machine learning, organization is key. Having our data (in this case, photos) neatly organized helps our future model learn better.\n",
    "\n",
    "So, go ahead and create your emotion-named folders and move the respective images into them. Remember, neatness counts!"
   ]
  },
  {
   "cell_type": "markdown",
   "id": "8515dceb-4c72-41c4-8c6a-e7abbec0b75c",
   "metadata": {},
   "source": [
    "### Discussion"
   ]
  },
  {
   "cell_type": "markdown",
   "id": "36a35b18-b860-4002-b50b-5f7ef7674901",
   "metadata": {},
   "source": [
    "**What If Our Data Gets Mixed Up?:** Think about this - what if a 'fear' photo sneaked into the 'joy' folder? Discuss within your team how such mix-ups could impact our machine learning model. If our data isn't sorted right, it could throw a wrench into our model's learning process. Keep this in mind as we venture further into machine learning!"
   ]
  },
  {
   "cell_type": "markdown",
   "id": "4fda9f95-8628-47e5-bb0f-130631796bd9",
   "metadata": {},
   "source": [
    "---"
   ]
  },
  {
   "cell_type": "markdown",
   "id": "18f5392a-dfa8-41b0-b9af-e69c8daa8504",
   "metadata": {},
   "source": [
    "## 5. Wrapping Up and Gearing Up for the Next Adventure"
   ]
  },
  {
   "cell_type": "markdown",
   "id": "c394beea-e77f-4312-8de0-dafdcdd25f21",
   "metadata": {},
   "source": [
    "Alright, awesome emotion explorers! Let's take a quick look at what we've accomplished today:\n",
    "\n",
    "1. We've learned what machine learning is all about (remember the dog fetching analogy?).\n",
    "2. We've chosen two out of five basic emotions to focus on and discussed why we need to capture these emotions.\n",
    "3. We've had lots of fun taking pictures and acting out these emotions - did you make some funny faces?\n",
    "4. Finally, we've neatly sorted our images into separate folders, ensuring our data is organized for the next step.\n"
   ]
  },
  {
   "cell_type": "markdown",
   "id": "82a7915f-3eae-45c7-a1a1-2ec571897aca",
   "metadata": {},
   "source": [
    "And what's the next step, you ask? In our upcoming notebook, we'll dive into the fascinating world of 'pre-processing'. Don't worry if it sounds like a big word - it's just a fancy way of saying we'll get our data (your photos!) ready to be understood by our machine learning model.\n",
    "\n",
    "**Remember**, never hesitate to ask questions or share interesting observations. We're all here to learn, explore, and have fun together. So, keep up the great work and get ready for our next exciting adventure in the world of machine learning!"
   ]
  },
  {
   "cell_type": "markdown",
   "id": "511d2bf4-a0f6-48ec-9934-9a7d0038bffc",
   "metadata": {},
   "source": [
    "<div align=\"center\">\n",
    "  <img src=\"images/wd.jpeg\" width=\"300\" height=\"300\">\n",
    "</div>"
   ]
  },
  {
   "cell_type": "markdown",
   "id": "41c74781-f097-4508-ae4b-d6c572fb5e8b",
   "metadata": {},
   "source": [
    "#### END"
   ]
  },
  {
   "cell_type": "markdown",
   "id": "eeb127ad-134b-41f0-8500-fb72b4ddd25c",
   "metadata": {},
   "source": [
    "---"
   ]
  },
  {
   "cell_type": "code",
   "execution_count": null,
   "id": "9446308b-f4d9-46e7-adbe-73b4633efd82",
   "metadata": {},
   "outputs": [],
   "source": []
  }
 ],
 "metadata": {
  "kernelspec": {
   "display_name": "Python 3 (ipykernel)",
   "language": "python",
   "name": "python3"
  },
  "language_info": {
   "codemirror_mode": {
    "name": "ipython",
    "version": 3
   },
   "file_extension": ".py",
   "mimetype": "text/x-python",
   "name": "python",
   "nbconvert_exporter": "python",
   "pygments_lexer": "ipython3",
   "version": "3.11.2"
  }
 },
 "nbformat": 4,
 "nbformat_minor": 5
}
